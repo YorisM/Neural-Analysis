{
 "cells": [
  {
   "cell_type": "markdown",
   "metadata": {},
   "source": [
    "# Imports"
   ]
  },
  {
   "cell_type": "code",
   "execution_count": 1,
   "metadata": {},
   "outputs": [],
   "source": [
    "from sklearn.datasets import make_blobs\n",
    "from sklearn.model_selection import train_test_split\n",
    "from sklearn.metrics import accuracy_score\n",
    "import matplotlib.pyplot as plt\n",
    "from sklearn import svm\n",
    "import numpy as np\n",
    "import pickle\n",
    "import seaborn as sns\n",
    "import sys\n",
    "import os\n",
    "sys.path.append(os.path.abspath(\"code\"))\n",
    "from utils import download_data\n",
    "import warnings\n",
    "warnings.filterwarnings('ignore')\n",
    "\n",
    "sns.set_theme(context='notebook',style='white',font_scale=1.5,\n",
    "              rc = {'axes.spines.top':False,'axes.spines.right':False})"
   ]
  },
  {
   "cell_type": "markdown",
   "metadata": {},
   "source": [
    "# Exercises"
   ]
  },
  {
   "cell_type": "markdown",
   "metadata": {},
   "source": [
    "## Exercise 1\n",
    "---\n",
    "Use the sklearn `make_blobs()` function, in the same way that we used in the lesson, to generate a *non linearly separable* dataset with 2 features.  \n",
    "Fit a linear SVM to the dataset many times, varying the slack hyperparameter $C$, and calculate the model performance in classifying the data.  \n",
    "What is, approximately, a the best value of the $C$ hyperparameter for this dataset?"
   ]
  },
  {
   "cell_type": "code",
   "execution_count": 15,
   "metadata": {},
   "outputs": [],
   "source": [
    "np.random.seed(1337)\n",
    "\n",
    "# Prepare data\n",
    "X, Y = make_blobs(n_samples=1000, n_features=2, centers=[[-1,0],[1,0]], cluster_std=1)\n",
    "X_train, X_test, Y_train, Y_test = train_test_split(X, Y, test_size=0.2, random_state=42)\n",
    "\n",
    "accuracies = []\n",
    "C_values = np.logspace(-3, 3, 20)\n",
    "\n",
    "\n",
    "# Fit\n",
    "for C in C_values:\n",
    "    svc_model =  svm.SVC(kernel='linear', C=C)\n",
    "    svc_model.fit(X_train, Y_train)\n",
    "\n",
    "    Y_pred = svc_model.predict(X_test)\n",
    "\n",
    "    accuracy = accuracy_score(Y_test, Y_pred)\n",
    "    accuracies.append(accuracy)"
   ]
  },
  {
   "cell_type": "code",
   "execution_count": 14,
   "metadata": {},
   "outputs": [
    {
     "name": "stdout",
     "output_type": "stream",
     "text": [
      "The accuracies over all C_values are: [0.875, 0.89, 0.89, 0.895, 0.89, 0.89, 0.89, 0.89, 0.89, 0.885, 0.88, 0.885, 0.885, 0.885, 0.885, 0.885, 0.885, 0.885, 0.885, 0.885]\n",
      "The highest accuracy is: 0.895\n",
      "The C value that corresponds to this accuracy is: 0.008858667904100823\n"
     ]
    }
   ],
   "source": [
    "max_index = np.argmax(accuracies)\n",
    "\n",
    "print(f\"The accuracies over all C_values are: {accuracies}\")\n",
    "print(f\"The highest accuracy is: {accuracies[max_index]}\")\n",
    "print(f\"The C value that corresponds to this accuracy is: {C_values[max_index]}\")"
   ]
  },
  {
   "cell_type": "markdown",
   "metadata": {
    "jp-MarkdownHeadingCollapsed": true,
    "tags": []
   },
   "source": [
    "### Exercise 2\n",
    "---\n",
    "Repeat exercise 1, but using a non-linear SVM model (the sklearn class `SVC` uses [Radial Basis Functions](https://en.wikipedia.org/wiki/Radial_basis_function) as a default, check its documentation [here](https://scikit-learn.org/stable/modules/generated/sklearn.svm.SVC.html#sklearn.svm.SVC)). \n",
    "To have a fairer assessment of the performance, train the model on a fraction (e.g. 80%) of the data, and test it on the other 20%.\n",
    "Compare the performance of a linear SVC and a RBF SVC for dataset that are increaslingly non-linearly-separable.\n"
   ]
  },
  {
   "cell_type": "markdown",
   "metadata": {
    "jp-MarkdownHeadingCollapsed": true,
    "tags": []
   },
   "source": [
    "### Exercise 3\n",
    "---\n",
    "Use the code below to simulate new data.\n",
    "Generate data and then decode the stimulus identity, see how the decoding performance change when you change the following:\n",
    "\n",
    "- The amplitude of the noise in the firing rate\n",
    "- The amplitude of the stimulus modulation of the firing rate\n",
    "- The number of neurons\n",
    "\n",
    "Plot and comment."
   ]
  },
  {
   "cell_type": "markdown",
   "metadata": {
    "jp-MarkdownHeadingCollapsed": true,
    "tags": []
   },
   "source": [
    "## Useful code\n",
    "---\n"
   ]
  },
  {
   "cell_type": "code",
   "execution_count": 70,
   "metadata": {},
   "outputs": [],
   "source": [
    "import numpy as np\n",
    "import matplotlib.pyplot as plt\n",
    "import pickle"
   ]
  },
  {
   "cell_type": "code",
   "execution_count": 60,
   "metadata": {},
   "outputs": [],
   "source": [
    "n_cells = 20; # number of cells to simulate\n",
    "n_stim_type = 2; # number of different stimuli\n",
    "sigma_stim = 0.5 # amplitude of stimulus related modulation\n",
    "average_firing_rate = 5; # average firing rate across the population\n",
    "\n",
    "# generate baseline rates from exponential distirbution\n",
    "cell_rate_baseline = np.random.exponential(average_firing_rate,size=n_cells)\n",
    "\n",
    "# create stimulus average responses, perturbing the population firng rate profile\n",
    "# we use a multiplicative modulation in opposite directions for the two stimuli\n",
    "modulation = sigma_stim*np.random.normal(0,1,size=n_cells)\n",
    "cell_rate_stim = {1: cell_rate_baseline * (1+modulation),2:cell_rate_baseline * (1-modulation)}\n",
    "# sets negative firng rate to 0\n",
    "cell_rate_stim[1][cell_rate_stim[1]<0]=0\n",
    "cell_rate_stim[2][cell_rate_stim[2]<0]=0"
   ]
  },
  {
   "cell_type": "code",
   "execution_count": 63,
   "metadata": {},
   "outputs": [],
   "source": [
    "# simulate spiking activity\n",
    "\n",
    "s_rate = 10000 # the sampling rate of our emulated recording system\n",
    "noise_rate = 1 # we are going to add some spike noise non related to the task\n",
    "n_stim = 100 # number of stimuli\n",
    "\n",
    "stim_dur = 2 #stimulus duration (in seconds)\n",
    "is_interval = 3 # interval between stimuli  (in seconds)\n",
    "\n",
    "stim_onsets = np.arange(0,n_stim*(stim_dur+is_interval),(stim_dur+is_interval)) # onset time of each stimulus (in seconds)\n",
    "stim_type = np.asarray([1 for i in range(int(n_stim/2))]+[2 for i in range(int(n_stim/2))]) # identity of each stimulus\n",
    "np.random.shuffle(stim_type)\n",
    "\n",
    "time = np.arange(0,(n_stim+1)*(stim_dur+is_interval),1.0/s_rate) # vector of the sampled times.\n",
    "\n",
    "spike_times = []\n",
    "for cell in range(n_cells):\n",
    "    spikes = np.random.poisson(cell_rate_baseline[cell]/s_rate,size=time.shape)\n",
    "    for i,stimulus in enumerate(stim_type):\n",
    "        stim_idxs = np.arange(stim_onsets[i]*s_rate,(stim_onsets[i]+stim_dur)*s_rate)\n",
    "        spikes[stim_idxs] = np.random.poisson(cell_rate_stim[stimulus][cell]/s_rate,size=stim_idxs.shape)\n",
    "\n",
    "    spike_times.append(time[spikes>0])\n",
    "\n"
   ]
  },
  {
   "cell_type": "code",
   "execution_count": 73,
   "metadata": {},
   "outputs": [],
   "source": [
    "# save ouput\n",
    "out_dict = {'spike_times':spike_times,\n",
    "            'stim_onsets':stim_onsets,\n",
    "            'stim_type':stim_type,\n",
    "            'stim_duration':stim_dur\n",
    "            }\n",
    "\n",
    "with open('data/simulated_data1.pickle', 'wb') as handle:\n",
    "    pickle.dump(out_dict, handle, protocol=pickle.HIGHEST_PROTOCOL)\n"
   ]
  }
 ],
 "metadata": {
  "kernelspec": {
   "display_name": "Python 3 (ipykernel)",
   "language": "python",
   "name": "python3"
  },
  "language_info": {
   "codemirror_mode": {
    "name": "ipython",
    "version": 3
   },
   "file_extension": ".py",
   "mimetype": "text/x-python",
   "name": "python",
   "nbconvert_exporter": "python",
   "pygments_lexer": "ipython3",
   "version": "3.9.16"
  },
  "vscode": {
   "interpreter": {
    "hash": "ec757111aa82fc412dab5a41ba1a33fdb6db5c8112df3ff06fec0dbff050b412"
   }
  }
 },
 "nbformat": 4,
 "nbformat_minor": 4
}
